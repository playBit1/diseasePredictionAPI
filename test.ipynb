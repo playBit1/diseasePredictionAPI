{
 "cells": [
  {
   "cell_type": "code",
   "execution_count": 30,
   "metadata": {},
   "outputs": [],
   "source": [
    "import pickle\n",
    "with open('./modelFinal.pkl', 'rb') as file:\n",
    "    loaded_model = pickle.load(file)"
   ]
  },
  {
   "cell_type": "code",
   "execution_count": 31,
   "metadata": {},
   "outputs": [],
   "source": [
    "symptomList = ['itching', 'skin_rash', 'nodal_skin_eruptions',\n",
    "               'continuous_sneezing', 'shivering', 'chills', 'joint_pain',\n",
    "               'stomach_pain', 'acidity', 'ulcers_on_tongue', 'muscle_wasting',\n",
    "               'vomiting', 'burning_micturition', 'spotting_ urination',\n",
    "               'fatigue', 'weight_gain', 'anxiety', 'cold_hands_and_feets',\n",
    "               'mood_swings', 'weight_loss', 'restlessness', 'lethargy',\n",
    "               'patches_in_throat', 'irregular_sugar_level', 'cough',\n",
    "               'high_fever', 'sunken_eyes', 'breathlessness', 'sweating',\n",
    "               'dehydration', 'indigestion', 'headache', 'yellowish_skin',\n",
    "               'dark_urine', 'nausea', 'loss_of_appetite', 'pain_behind_the_eyes',\n",
    "               'back_pain', 'constipation', 'abdominal_pain', 'diarrhoea',\n",
    "               'mild_fever', 'yellow_urine', 'yellowing_of_eyes',\n",
    "               'acute_liver_failure', 'fluid_overload', 'swelling_of_stomach',\n",
    "               'swelled_lymph_nodes', 'malaise', 'blurred_and_distorted_vision',\n",
    "               'phlegm', 'throat_irritation', 'redness_of_eyes', 'sinus_pressure',\n",
    "               'runny_nose', 'congestion', 'chest_pain', 'weakness_in_limbs',\n",
    "               'fast_heart_rate', 'pain_during_bowel_movements',\n",
    "               'pain_in_anal_region', 'bloody_stool', 'irritation_in_anus',\n",
    "               'neck_pain', 'dizziness', 'cramps', 'bruising', 'obesity',\n",
    "               'swollen_legs', 'swollen_blood_vessels', 'puffy_face_and_eyes',\n",
    "               'enlarged_thyroid', 'brittle_nails', 'swollen_extremeties',\n",
    "               'excessive_hunger', 'extra_marital_contacts',\n",
    "               'drying_and_tingling_lips', 'slurred_speech', 'knee_pain',\n",
    "               'hip_joint_pain', 'muscle_weakness', 'stiff_neck',\n",
    "               'swelling_joints', 'movement_stiffness', 'spinning_movements',\n",
    "               'loss_of_balance', 'unsteadiness', 'weakness_of_one_body_side',\n",
    "               'loss_of_smell', 'bladder_discomfort', 'foul_smell_of urine',\n",
    "               'continuous_feel_of_urine', 'passage_of_gases', 'internal_itching',\n",
    "               'toxic_look_(typhos)', 'depression', 'irritability', 'muscle_pain',\n",
    "               'altered_sensorium', 'red_spots_over_body', 'belly_pain',\n",
    "               'abnormal_menstruation', 'dischromic _patches',\n",
    "               'watering_from_eyes', 'increased_appetite', 'polyuria',\n",
    "               'family_history', 'mucoid_sputum', 'rusty_sputum',\n",
    "               'lack_of_concentration', 'visual_disturbances',\n",
    "               'receiving_blood_transfusion', 'receiving_unsterile_injections',\n",
    "               'coma', 'stomach_bleeding', 'distention_of_abdomen',\n",
    "               'history_of_alcohol_consumption', 'fluid_overload.1',\n",
    "               'blood_in_sputum', 'prominent_veins_on_calf', 'palpitations',\n",
    "               'painful_walking', 'pus_filled_pimples', 'blackheads', 'scurring',\n",
    "               'skin_peeling', 'silver_like_dusting', 'small_dents_in_nails',\n",
    "               'inflammatory_nails', 'blister', 'red_sore_around_nose',\n",
    "               'yellow_crust_ooze']"
   ]
  },
  {
   "cell_type": "code",
   "execution_count": 114,
   "metadata": {},
   "outputs": [],
   "source": [
    "disease = ['(vertigo) Paroymsal  Positional Vertigo', 'AIDS', 'Acne',\n",
    "           'Alcoholic hepatitis', 'Allergy', 'Arthritis', 'Bronchial Asthma',\n",
    "           'Cervical spondylosis', 'Chicken pox', 'Chronic cholestasis',\n",
    "           'Common Cold', 'Dengue', 'Diabetes ',\n",
    "           'Dimorphic hemmorhoids(piles)', 'Drug Reaction',\n",
    "           'Fungal infection', 'GERD', 'Gastroenteritis', 'Heart attack',\n",
    "           'Hepatitis B', 'Hepatitis C', 'Hepatitis D', 'Hepatitis E',\n",
    "           'Hypertension ', 'Hyperthyroidism', 'Hypoglycemia',\n",
    "           'Hypothyroidism', 'Impetigo', 'Jaundice', 'Malaria', 'Migraine',\n",
    "           'Osteoarthristis', 'Paralysis (brain hemorrhage)',\n",
    "           'Peptic ulcer diseae', 'Pneumonia', 'Psoriasis', 'Tuberculosis',\n",
    "           'Typhoid', 'Urinary tract infection', 'Varicose veins',\n",
    "           'hepatitis A']"
   ]
  },
  {
   "cell_type": "code",
   "execution_count": 55,
   "metadata": {},
   "outputs": [],
   "source": [
    "from pydantic import BaseModel\n",
    "import numpy as np"
   ]
  },
  {
   "cell_type": "code",
   "execution_count": 33,
   "metadata": {},
   "outputs": [],
   "source": [
    "class Symptomclass(BaseModel):\n",
    "    symptoms: list[str]"
   ]
  },
  {
   "cell_type": "code",
   "execution_count": 121,
   "metadata": {},
   "outputs": [],
   "source": [
    "def func(s: Symptomclass):\n",
    "    input = []\n",
    "    for i in symptomList:\n",
    "        if (i in s.symptoms):\n",
    "            input.append(int(1))\n",
    "        else:\n",
    "            input.append(int(0))\n",
    "    input = pd.DataFrame([input], columns=symptomList)\n",
    "    return disease[int(loaded_model.predict(input))]"
   ]
  },
  {
   "cell_type": "code",
   "execution_count": 122,
   "metadata": {},
   "outputs": [],
   "source": [
    "test = Symptomclass(symptoms=['itching', 'skin_rash', 'nodal_skin_eruptions','continuous_sneezing', 'shivering', 'chills'])"
   ]
  },
  {
   "cell_type": "code",
   "execution_count": 123,
   "metadata": {},
   "outputs": [
    {
     "data": {
      "text/plain": [
       "'Fungal infection'"
      ]
     },
     "execution_count": 123,
     "metadata": {},
     "output_type": "execute_result"
    }
   ],
   "source": [
    "func(test)"
   ]
  },
  {
   "cell_type": "code",
   "execution_count": 108,
   "metadata": {},
   "outputs": [
    {
     "data": {
      "text/html": [
       "<div>\n",
       "<style scoped>\n",
       "    .dataframe tbody tr th:only-of-type {\n",
       "        vertical-align: middle;\n",
       "    }\n",
       "\n",
       "    .dataframe tbody tr th {\n",
       "        vertical-align: top;\n",
       "    }\n",
       "\n",
       "    .dataframe thead th {\n",
       "        text-align: right;\n",
       "    }\n",
       "</style>\n",
       "<table border=\"1\" class=\"dataframe\">\n",
       "  <thead>\n",
       "    <tr style=\"text-align: right;\">\n",
       "      <th></th>\n",
       "      <th>itching</th>\n",
       "      <th>skin_rash</th>\n",
       "      <th>nodal_skin_eruptions</th>\n",
       "      <th>continuous_sneezing</th>\n",
       "      <th>shivering</th>\n",
       "      <th>chills</th>\n",
       "      <th>joint_pain</th>\n",
       "      <th>stomach_pain</th>\n",
       "      <th>acidity</th>\n",
       "      <th>ulcers_on_tongue</th>\n",
       "      <th>...</th>\n",
       "      <th>pus_filled_pimples</th>\n",
       "      <th>blackheads</th>\n",
       "      <th>scurring</th>\n",
       "      <th>skin_peeling</th>\n",
       "      <th>silver_like_dusting</th>\n",
       "      <th>small_dents_in_nails</th>\n",
       "      <th>inflammatory_nails</th>\n",
       "      <th>blister</th>\n",
       "      <th>red_sore_around_nose</th>\n",
       "      <th>yellow_crust_ooze</th>\n",
       "    </tr>\n",
       "  </thead>\n",
       "  <tbody>\n",
       "    <tr>\n",
       "      <th>0</th>\n",
       "      <td>1</td>\n",
       "      <td>1</td>\n",
       "      <td>1</td>\n",
       "      <td>1</td>\n",
       "      <td>1</td>\n",
       "      <td>1</td>\n",
       "      <td>0</td>\n",
       "      <td>0</td>\n",
       "      <td>0</td>\n",
       "      <td>0</td>\n",
       "      <td>...</td>\n",
       "      <td>0</td>\n",
       "      <td>0</td>\n",
       "      <td>0</td>\n",
       "      <td>0</td>\n",
       "      <td>0</td>\n",
       "      <td>0</td>\n",
       "      <td>0</td>\n",
       "      <td>0</td>\n",
       "      <td>0</td>\n",
       "      <td>0</td>\n",
       "    </tr>\n",
       "  </tbody>\n",
       "</table>\n",
       "<p>1 rows × 132 columns</p>\n",
       "</div>"
      ],
      "text/plain": [
       "   itching  skin_rash  nodal_skin_eruptions  continuous_sneezing  shivering  \\\n",
       "0        1          1                     1                    1          1   \n",
       "\n",
       "   chills  joint_pain  stomach_pain  acidity  ulcers_on_tongue  ...  \\\n",
       "0       1           0             0        0                 0  ...   \n",
       "\n",
       "   pus_filled_pimples  blackheads  scurring  skin_peeling  \\\n",
       "0                   0           0         0             0   \n",
       "\n",
       "   silver_like_dusting  small_dents_in_nails  inflammatory_nails  blister  \\\n",
       "0                    0                     0                   0        0   \n",
       "\n",
       "   red_sore_around_nose  yellow_crust_ooze  \n",
       "0                     0                  0  \n",
       "\n",
       "[1 rows x 132 columns]"
      ]
     },
     "execution_count": 108,
     "metadata": {},
     "output_type": "execute_result"
    }
   ],
   "source": [
    "pd.DataFrame([result], columns=symptomList)"
   ]
  },
  {
   "cell_type": "code",
   "execution_count": 109,
   "metadata": {},
   "outputs": [
    {
     "data": {
      "text/plain": [
       "array([15])"
      ]
     },
     "execution_count": 109,
     "metadata": {},
     "output_type": "execute_result"
    }
   ],
   "source": [
    "loaded_model.predict(pd.DataFrame([result], columns=symptomList))"
   ]
  },
  {
   "cell_type": "code",
   "execution_count": null,
   "metadata": {},
   "outputs": [],
   "source": []
  }
 ],
 "metadata": {
  "kernelspec": {
   "display_name": "diseasePredictionAPI",
   "language": "python",
   "name": "python3"
  },
  "language_info": {
   "codemirror_mode": {
    "name": "ipython",
    "version": 3
   },
   "file_extension": ".py",
   "mimetype": "text/x-python",
   "name": "python",
   "nbconvert_exporter": "python",
   "pygments_lexer": "ipython3",
   "version": "3.11.3"
  },
  "orig_nbformat": 4
 },
 "nbformat": 4,
 "nbformat_minor": 2
}
